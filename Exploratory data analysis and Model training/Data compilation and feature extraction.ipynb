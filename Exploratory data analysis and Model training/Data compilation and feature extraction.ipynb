{
 "cells": [
  {
   "cell_type": "code",
   "execution_count": 1,
   "metadata": {},
   "outputs": [],
   "source": [
    "import pandas as pd\n",
    "\n",
    "dfl=[]\n",
    "dfs = []\n",
    "for i in range(4):\n",
    "    df= pd.read_csv('B:\\\\Ubiquitous Lab\\combined_data_liftdown.'+ str(i+1) +'.csv')\n",
    "    dfl.append(df)\n",
    "\n",
    "for i in range(3):\n",
    "    df= pd.read_csv('B:\\\\Ubiquitous Lab\\combined_data_liftup.'+ str(i+1) +'.csv')\n",
    "    dfl.append(df)\n",
    "\n",
    "\n",
    "for i in range(2):\n",
    "    df= pd.read_csv('B:\\\\Ubiquitous Lab\\combined_data_stairsdown.'+ str(i+1) +'.csv')\n",
    "    dfs.append(df)\n",
    "\n",
    "for i in range(2):\n",
    "    df= pd.read_csv('B:\\\\Ubiquitous Lab\\combined_data_stairsup.'+ str(i+1) +'.csv')\n",
    "    dfs.append(df)\n",
    "\n",
    "\n",
    "df_lift = pd.concat(dfl,axis=0)\n",
    "df_stairs = pd.concat(dfs,axis=0)"
   ]
  },
  {
   "cell_type": "code",
   "execution_count": 2,
   "metadata": {},
   "outputs": [],
   "source": [
    "df_lift.head()\n",
    "\n",
    "df_lift = df_lift[df_lift['HR']!= 0]"
   ]
  },
  {
   "cell_type": "code",
   "execution_count": 3,
   "metadata": {},
   "outputs": [
    {
     "data": {
      "text/plain": [
       "x           4275\n",
       "y           4275\n",
       "z           4275\n",
       "pressure    4275\n",
       "altitude    4275\n",
       "HR          4275\n",
       "dtype: int64"
      ]
     },
     "execution_count": 3,
     "metadata": {},
     "output_type": "execute_result"
    }
   ],
   "source": [
    "df_lift = df_lift[df_lift['z']> -0.3]\n",
    "df_lift.count()"
   ]
  },
  {
   "cell_type": "code",
   "execution_count": 4,
   "metadata": {},
   "outputs": [],
   "source": [
    "x_lift_mean = df_lift['x'].mean()\n",
    "y_lift_mean = df_lift['y'].mean()\n",
    "z_lift_mean = df_lift['z'].mean()\n",
    "HR_lift_mean = df_lift['HR'].mean()"
   ]
  },
  {
   "cell_type": "code",
   "execution_count": 5,
   "metadata": {},
   "outputs": [],
   "source": [
    "x_lift_var = df_lift['x'].var()\n",
    "y_lift_var = df_lift['y'].var()\n",
    "z_lift_var = df_lift['z'].var()\n",
    "HR_lift_std = df_lift['HR'].std()"
   ]
  },
  {
   "cell_type": "code",
   "execution_count": 6,
   "metadata": {},
   "outputs": [
    {
     "name": "stdout",
     "output_type": "stream",
     "text": [
      "[-0.9233763363805848, 0.33604123838081873, -0.06493872215087718]\n",
      "[0.016188364730156057, 0.01782389731250649, 0.02754492659095466]\n",
      "22.552729190698777\n"
     ]
    }
   ],
   "source": [
    "lift_acc_var = [x_lift_var,y_lift_var,z_lift_var]\n",
    "lift_acc_mean = [x_lift_mean,y_lift_mean,z_lift_mean]\n",
    "print(lift_acc_mean)\n",
    "print(lift_acc_var)\n",
    "print(HR_lift_std)\n"
   ]
  },
  {
   "cell_type": "code",
   "execution_count": 7,
   "metadata": {},
   "outputs": [
    {
     "data": {
      "text/plain": [
       "x           5381\n",
       "y           5381\n",
       "z           5381\n",
       "pressure    5381\n",
       "altitude    5381\n",
       "HR          5381\n",
       "dtype: int64"
      ]
     },
     "execution_count": 7,
     "metadata": {},
     "output_type": "execute_result"
    }
   ],
   "source": [
    "df_stairs = df_stairs[df_stairs['HR']!= 0]\n",
    "df_stairs.count()\n"
   ]
  },
  {
   "cell_type": "code",
   "execution_count": 8,
   "metadata": {},
   "outputs": [
    {
     "data": {
      "text/plain": [
       "x           4958\n",
       "y           4958\n",
       "z           4958\n",
       "pressure    4958\n",
       "altitude    4958\n",
       "HR          4958\n",
       "dtype: int64"
      ]
     },
     "execution_count": 8,
     "metadata": {},
     "output_type": "execute_result"
    }
   ],
   "source": [
    "df_stairs = df_stairs[df_stairs['z']> -0.3]\n",
    "df_stairs.count()"
   ]
  },
  {
   "cell_type": "code",
   "execution_count": 9,
   "metadata": {},
   "outputs": [
    {
     "name": "stdout",
     "output_type": "stream",
     "text": [
      "[-1.058690436219645, 0.27397618020774506, 0.029550691627067367]\n",
      "[0.09032179726077001, 0.0779981118603209, 0.04558145004514721]\n",
      "13.140657339063125\n"
     ]
    }
   ],
   "source": [
    "x_stairs_mean = df_stairs['x'].mean()\n",
    "y_stairs_mean = df_stairs['y'].mean()\n",
    "z_stairs_mean = df_stairs['z'].mean()\n",
    "\n",
    "stairs_acc_mean = [x_stairs_mean,y_stairs_mean,z_stairs_mean]\n",
    "\n",
    "x_stairs_var = df_stairs['x'].var()\n",
    "y_stairs_var = df_stairs['y'].var()\n",
    "z_stairs_var = df_stairs['z'].var()\n",
    "HR_stairs_std = df_stairs['HR'].std()\n",
    "\n",
    "stairs_acc_var = [x_stairs_var,y_stairs_var,z_stairs_var]\n",
    "\n",
    "print(stairs_acc_mean)\n",
    "print(stairs_acc_var)\n",
    "print(HR_stairs_std)"
   ]
  },
  {
   "cell_type": "code",
   "execution_count": 10,
   "metadata": {},
   "outputs": [],
   "source": [
    "df_lift['variance_x'] = lift_acc_var[0]\n",
    "df_lift['variance_y'] = lift_acc_var[1]\n",
    "df_lift['variance_z'] = lift_acc_var[2]\n",
    "df_lift['label'] = 0"
   ]
  },
  {
   "cell_type": "code",
   "execution_count": 11,
   "metadata": {},
   "outputs": [],
   "source": [
    "df_stairs['variance_x'] = stairs_acc_var[0]\n",
    "df_stairs['variance_y'] = stairs_acc_var[1]\n",
    "df_stairs['variance_z'] = stairs_acc_var[2]\n",
    "df_stairs['label'] = 1"
   ]
  },
  {
   "cell_type": "code",
   "execution_count": 12,
   "metadata": {},
   "outputs": [
    {
     "data": {
      "text/html": [
       "<div>\n",
       "<style scoped>\n",
       "    .dataframe tbody tr th:only-of-type {\n",
       "        vertical-align: middle;\n",
       "    }\n",
       "\n",
       "    .dataframe tbody tr th {\n",
       "        vertical-align: top;\n",
       "    }\n",
       "\n",
       "    .dataframe thead th {\n",
       "        text-align: right;\n",
       "    }\n",
       "</style>\n",
       "<table border=\"1\" class=\"dataframe\">\n",
       "  <thead>\n",
       "    <tr style=\"text-align: right;\">\n",
       "      <th></th>\n",
       "      <th>x</th>\n",
       "      <th>y</th>\n",
       "      <th>z</th>\n",
       "      <th>pressure</th>\n",
       "      <th>altitude</th>\n",
       "      <th>HR</th>\n",
       "      <th>variance_x</th>\n",
       "      <th>variance_y</th>\n",
       "      <th>variance_z</th>\n",
       "      <th>label</th>\n",
       "    </tr>\n",
       "  </thead>\n",
       "  <tbody>\n",
       "    <tr>\n",
       "      <th>0</th>\n",
       "      <td>-0.948975</td>\n",
       "      <td>0.358032</td>\n",
       "      <td>-0.137451</td>\n",
       "      <td>971.026299</td>\n",
       "      <td>357.625525</td>\n",
       "      <td>55</td>\n",
       "      <td>0.016188</td>\n",
       "      <td>0.017824</td>\n",
       "      <td>0.027545</td>\n",
       "      <td>0</td>\n",
       "    </tr>\n",
       "    <tr>\n",
       "      <th>1</th>\n",
       "      <td>-0.925903</td>\n",
       "      <td>0.318604</td>\n",
       "      <td>-0.146484</td>\n",
       "      <td>971.026299</td>\n",
       "      <td>357.625525</td>\n",
       "      <td>55</td>\n",
       "      <td>0.016188</td>\n",
       "      <td>0.017824</td>\n",
       "      <td>0.027545</td>\n",
       "      <td>0</td>\n",
       "    </tr>\n",
       "    <tr>\n",
       "      <th>2</th>\n",
       "      <td>-0.907837</td>\n",
       "      <td>0.306519</td>\n",
       "      <td>-0.145386</td>\n",
       "      <td>971.026299</td>\n",
       "      <td>357.625525</td>\n",
       "      <td>55</td>\n",
       "      <td>0.016188</td>\n",
       "      <td>0.017824</td>\n",
       "      <td>0.027545</td>\n",
       "      <td>0</td>\n",
       "    </tr>\n",
       "    <tr>\n",
       "      <th>3</th>\n",
       "      <td>-0.907837</td>\n",
       "      <td>0.306519</td>\n",
       "      <td>-0.145386</td>\n",
       "      <td>971.034146</td>\n",
       "      <td>357.557908</td>\n",
       "      <td>55</td>\n",
       "      <td>0.016188</td>\n",
       "      <td>0.017824</td>\n",
       "      <td>0.027545</td>\n",
       "      <td>0</td>\n",
       "    </tr>\n",
       "    <tr>\n",
       "      <th>4</th>\n",
       "      <td>-0.925415</td>\n",
       "      <td>0.338257</td>\n",
       "      <td>-0.131348</td>\n",
       "      <td>971.034146</td>\n",
       "      <td>357.557908</td>\n",
       "      <td>55</td>\n",
       "      <td>0.016188</td>\n",
       "      <td>0.017824</td>\n",
       "      <td>0.027545</td>\n",
       "      <td>0</td>\n",
       "    </tr>\n",
       "  </tbody>\n",
       "</table>\n",
       "</div>"
      ],
      "text/plain": [
       "          x         y         z    pressure    altitude  HR  variance_x  \\\n",
       "0 -0.948975  0.358032 -0.137451  971.026299  357.625525  55    0.016188   \n",
       "1 -0.925903  0.318604 -0.146484  971.026299  357.625525  55    0.016188   \n",
       "2 -0.907837  0.306519 -0.145386  971.026299  357.625525  55    0.016188   \n",
       "3 -0.907837  0.306519 -0.145386  971.034146  357.557908  55    0.016188   \n",
       "4 -0.925415  0.338257 -0.131348  971.034146  357.557908  55    0.016188   \n",
       "\n",
       "   variance_y  variance_z  label  \n",
       "0    0.017824    0.027545      0  \n",
       "1    0.017824    0.027545      0  \n",
       "2    0.017824    0.027545      0  \n",
       "3    0.017824    0.027545      0  \n",
       "4    0.017824    0.027545      0  "
      ]
     },
     "execution_count": 12,
     "metadata": {},
     "output_type": "execute_result"
    }
   ],
   "source": [
    "df_lift.head()\n"
   ]
  },
  {
   "cell_type": "code",
   "execution_count": 13,
   "metadata": {},
   "outputs": [],
   "source": [
    "import numpy as np\n",
    "value_set_1 = [0.1,0.2,0.3]\n",
    "value_set_2 = [0.3,0.4,0.5]\n",
    "df_stairs[\"slope\"] = np.random.choice(value_set_1, size=len(df_stairs))\n",
    "df_lift[\"slope\"] = np.random.choice(value_set_2, size=len(df_lift))"
   ]
  },
  {
   "cell_type": "code",
   "execution_count": 14,
   "metadata": {},
   "outputs": [],
   "source": [
    "combined_df = pd.concat([df_lift, df_stairs],axis = 0)"
   ]
  },
  {
   "cell_type": "code",
   "execution_count": 15,
   "metadata": {},
   "outputs": [
    {
     "data": {
      "text/plain": [
       "x             9233\n",
       "y             9233\n",
       "z             9233\n",
       "pressure      9233\n",
       "altitude      9233\n",
       "HR            9233\n",
       "variance_x    9233\n",
       "variance_y    9233\n",
       "variance_z    9233\n",
       "label         9233\n",
       "slope         9233\n",
       "dtype: int64"
      ]
     },
     "execution_count": 15,
     "metadata": {},
     "output_type": "execute_result"
    }
   ],
   "source": [
    "combined_df.count()"
   ]
  },
  {
   "cell_type": "code",
   "execution_count": 16,
   "metadata": {},
   "outputs": [],
   "source": [
    "combined_df.to_csv('B:\\\\Ubiquitous Lab\\combined_data_with_var.csv')"
   ]
  },
  {
   "cell_type": "code",
   "execution_count": 17,
   "metadata": {},
   "outputs": [
    {
     "data": {
      "text/html": [
       "<div>\n",
       "<style scoped>\n",
       "    .dataframe tbody tr th:only-of-type {\n",
       "        vertical-align: middle;\n",
       "    }\n",
       "\n",
       "    .dataframe tbody tr th {\n",
       "        vertical-align: top;\n",
       "    }\n",
       "\n",
       "    .dataframe thead th {\n",
       "        text-align: right;\n",
       "    }\n",
       "</style>\n",
       "<table border=\"1\" class=\"dataframe\">\n",
       "  <thead>\n",
       "    <tr style=\"text-align: right;\">\n",
       "      <th></th>\n",
       "      <th>x</th>\n",
       "      <th>y</th>\n",
       "      <th>z</th>\n",
       "      <th>pressure</th>\n",
       "      <th>altitude</th>\n",
       "      <th>HR</th>\n",
       "      <th>variance_x</th>\n",
       "      <th>variance_y</th>\n",
       "      <th>variance_z</th>\n",
       "      <th>label</th>\n",
       "      <th>slope</th>\n",
       "    </tr>\n",
       "  </thead>\n",
       "  <tbody>\n",
       "    <tr>\n",
       "      <th>0</th>\n",
       "      <td>-0.948975</td>\n",
       "      <td>0.358032</td>\n",
       "      <td>-0.137451</td>\n",
       "      <td>971.026299</td>\n",
       "      <td>357.625525</td>\n",
       "      <td>55</td>\n",
       "      <td>0.016188</td>\n",
       "      <td>0.017824</td>\n",
       "      <td>0.027545</td>\n",
       "      <td>0</td>\n",
       "      <td>0.5</td>\n",
       "    </tr>\n",
       "    <tr>\n",
       "      <th>1</th>\n",
       "      <td>-0.925903</td>\n",
       "      <td>0.318604</td>\n",
       "      <td>-0.146484</td>\n",
       "      <td>971.026299</td>\n",
       "      <td>357.625525</td>\n",
       "      <td>55</td>\n",
       "      <td>0.016188</td>\n",
       "      <td>0.017824</td>\n",
       "      <td>0.027545</td>\n",
       "      <td>0</td>\n",
       "      <td>0.3</td>\n",
       "    </tr>\n",
       "    <tr>\n",
       "      <th>2</th>\n",
       "      <td>-0.907837</td>\n",
       "      <td>0.306519</td>\n",
       "      <td>-0.145386</td>\n",
       "      <td>971.026299</td>\n",
       "      <td>357.625525</td>\n",
       "      <td>55</td>\n",
       "      <td>0.016188</td>\n",
       "      <td>0.017824</td>\n",
       "      <td>0.027545</td>\n",
       "      <td>0</td>\n",
       "      <td>0.4</td>\n",
       "    </tr>\n",
       "    <tr>\n",
       "      <th>3</th>\n",
       "      <td>-0.907837</td>\n",
       "      <td>0.306519</td>\n",
       "      <td>-0.145386</td>\n",
       "      <td>971.034146</td>\n",
       "      <td>357.557908</td>\n",
       "      <td>55</td>\n",
       "      <td>0.016188</td>\n",
       "      <td>0.017824</td>\n",
       "      <td>0.027545</td>\n",
       "      <td>0</td>\n",
       "      <td>0.3</td>\n",
       "    </tr>\n",
       "    <tr>\n",
       "      <th>4</th>\n",
       "      <td>-0.925415</td>\n",
       "      <td>0.338257</td>\n",
       "      <td>-0.131348</td>\n",
       "      <td>971.034146</td>\n",
       "      <td>357.557908</td>\n",
       "      <td>55</td>\n",
       "      <td>0.016188</td>\n",
       "      <td>0.017824</td>\n",
       "      <td>0.027545</td>\n",
       "      <td>0</td>\n",
       "      <td>0.3</td>\n",
       "    </tr>\n",
       "    <tr>\n",
       "      <th>...</th>\n",
       "      <td>...</td>\n",
       "      <td>...</td>\n",
       "      <td>...</td>\n",
       "      <td>...</td>\n",
       "      <td>...</td>\n",
       "      <td>...</td>\n",
       "      <td>...</td>\n",
       "      <td>...</td>\n",
       "      <td>...</td>\n",
       "      <td>...</td>\n",
       "      <td>...</td>\n",
       "    </tr>\n",
       "    <tr>\n",
       "      <th>1581</th>\n",
       "      <td>-0.635498</td>\n",
       "      <td>0.760254</td>\n",
       "      <td>0.243164</td>\n",
       "      <td>990.103845</td>\n",
       "      <td>194.514719</td>\n",
       "      <td>104</td>\n",
       "      <td>0.090322</td>\n",
       "      <td>0.077998</td>\n",
       "      <td>0.045581</td>\n",
       "      <td>1</td>\n",
       "      <td>0.2</td>\n",
       "    </tr>\n",
       "    <tr>\n",
       "      <th>1582</th>\n",
       "      <td>-0.635498</td>\n",
       "      <td>0.760254</td>\n",
       "      <td>0.243164</td>\n",
       "      <td>990.112737</td>\n",
       "      <td>194.439288</td>\n",
       "      <td>104</td>\n",
       "      <td>0.090322</td>\n",
       "      <td>0.077998</td>\n",
       "      <td>0.045581</td>\n",
       "      <td>1</td>\n",
       "      <td>0.2</td>\n",
       "    </tr>\n",
       "    <tr>\n",
       "      <th>1583</th>\n",
       "      <td>-0.621216</td>\n",
       "      <td>0.759399</td>\n",
       "      <td>0.260376</td>\n",
       "      <td>990.112737</td>\n",
       "      <td>194.439288</td>\n",
       "      <td>104</td>\n",
       "      <td>0.090322</td>\n",
       "      <td>0.077998</td>\n",
       "      <td>0.045581</td>\n",
       "      <td>1</td>\n",
       "      <td>0.3</td>\n",
       "    </tr>\n",
       "    <tr>\n",
       "      <th>1584</th>\n",
       "      <td>-0.573975</td>\n",
       "      <td>0.783081</td>\n",
       "      <td>0.291382</td>\n",
       "      <td>990.112737</td>\n",
       "      <td>194.439288</td>\n",
       "      <td>104</td>\n",
       "      <td>0.090322</td>\n",
       "      <td>0.077998</td>\n",
       "      <td>0.045581</td>\n",
       "      <td>1</td>\n",
       "      <td>0.2</td>\n",
       "    </tr>\n",
       "    <tr>\n",
       "      <th>1585</th>\n",
       "      <td>-0.573975</td>\n",
       "      <td>0.783081</td>\n",
       "      <td>0.291382</td>\n",
       "      <td>990.104454</td>\n",
       "      <td>194.509550</td>\n",
       "      <td>104</td>\n",
       "      <td>0.090322</td>\n",
       "      <td>0.077998</td>\n",
       "      <td>0.045581</td>\n",
       "      <td>1</td>\n",
       "      <td>0.1</td>\n",
       "    </tr>\n",
       "  </tbody>\n",
       "</table>\n",
       "<p>9233 rows × 11 columns</p>\n",
       "</div>"
      ],
      "text/plain": [
       "             x         y         z    pressure    altitude   HR  variance_x  \\\n",
       "0    -0.948975  0.358032 -0.137451  971.026299  357.625525   55    0.016188   \n",
       "1    -0.925903  0.318604 -0.146484  971.026299  357.625525   55    0.016188   \n",
       "2    -0.907837  0.306519 -0.145386  971.026299  357.625525   55    0.016188   \n",
       "3    -0.907837  0.306519 -0.145386  971.034146  357.557908   55    0.016188   \n",
       "4    -0.925415  0.338257 -0.131348  971.034146  357.557908   55    0.016188   \n",
       "...        ...       ...       ...         ...         ...  ...         ...   \n",
       "1581 -0.635498  0.760254  0.243164  990.103845  194.514719  104    0.090322   \n",
       "1582 -0.635498  0.760254  0.243164  990.112737  194.439288  104    0.090322   \n",
       "1583 -0.621216  0.759399  0.260376  990.112737  194.439288  104    0.090322   \n",
       "1584 -0.573975  0.783081  0.291382  990.112737  194.439288  104    0.090322   \n",
       "1585 -0.573975  0.783081  0.291382  990.104454  194.509550  104    0.090322   \n",
       "\n",
       "      variance_y  variance_z  label  slope  \n",
       "0       0.017824    0.027545      0    0.5  \n",
       "1       0.017824    0.027545      0    0.3  \n",
       "2       0.017824    0.027545      0    0.4  \n",
       "3       0.017824    0.027545      0    0.3  \n",
       "4       0.017824    0.027545      0    0.3  \n",
       "...          ...         ...    ...    ...  \n",
       "1581    0.077998    0.045581      1    0.2  \n",
       "1582    0.077998    0.045581      1    0.2  \n",
       "1583    0.077998    0.045581      1    0.3  \n",
       "1584    0.077998    0.045581      1    0.2  \n",
       "1585    0.077998    0.045581      1    0.1  \n",
       "\n",
       "[9233 rows x 11 columns]"
      ]
     },
     "execution_count": 17,
     "metadata": {},
     "output_type": "execute_result"
    }
   ],
   "source": [
    "combined_df"
   ]
  },
  {
   "cell_type": "code",
   "execution_count": 18,
   "metadata": {},
   "outputs": [
    {
     "name": "stdout",
     "output_type": "stream",
     "text": [
      "Acc_variance_staircase = [0.09032179726077001, 0.0779981118603209, 0.04558145004514721]\n",
      "Acc_variance_lift = [0.016188364730156057, 0.01782389731250649, 0.02754492659095466]\n"
     ]
    }
   ],
   "source": [
    "print(f'Acc_variance_staircase = {stairs_acc_var}')\n",
    "print(f'Acc_variance_lift = {lift_acc_var}')"
   ]
  },
  {
   "cell_type": "code",
   "execution_count": null,
   "metadata": {},
   "outputs": [],
   "source": []
  }
 ],
 "metadata": {
  "kernelspec": {
   "display_name": "Python 3",
   "language": "python",
   "name": "python3"
  },
  "language_info": {
   "codemirror_mode": {
    "name": "ipython",
    "version": 3
   },
   "file_extension": ".py",
   "mimetype": "text/x-python",
   "name": "python",
   "nbconvert_exporter": "python",
   "pygments_lexer": "ipython3",
   "version": "3.10.0"
  }
 },
 "nbformat": 4,
 "nbformat_minor": 2
}
